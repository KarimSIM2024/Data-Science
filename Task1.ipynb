{
 "cells": [
  {
   "metadata": {},
   "cell_type": "markdown",
   "source": [
    "# Python Programming Assignment 1 \n",
    "\n"
   ],
   "id": "8a77807f92f26ee"
  },
  {
   "metadata": {
    "tags": [],
    "ExecuteTime": {
     "end_time": "2024-11-22T13:31:52.994064Z",
     "start_time": "2024-11-22T13:31:45.915234Z"
    }
   },
   "cell_type": "code",
   "source": [
    "#  1: Add two numbers\n",
    "num1 = float(input(\"Enter the first number: \"))\n",
    "num2 = float(input(\"Enter the second number: \"))\n",
    "result = num1 + num2\n",
    "print(\"The sum is:\", result)"
   ],
   "id": "fbc121e30a2defb3",
   "outputs": [
    {
     "name": "stdout",
     "output_type": "stream",
     "text": [
      "The sum is: 13.0\n"
     ]
    }
   ],
   "execution_count": 1
  },
  {
   "metadata": {
    "ExecuteTime": {
     "end_time": "2024-11-05T11:36:52.795141Z",
     "start_time": "2024-11-05T11:36:43.232622Z"
    }
   },
   "cell_type": "code",
   "source": [
    "#  2: Maximum of two numbers\n",
    "num1 = float(input(\"Enter the first number: \"))\n",
    "num2 = float(input(\"Enter the second number: \"))\n",
    "print(\"The maximum is:\", max(num1, num2))"
   ],
   "id": "4e34c2365794c2e0",
   "outputs": [
    {
     "name": "stdout",
     "output_type": "stream",
     "text": [
      "The maximum is: 34.0\n"
     ]
    }
   ],
   "execution_count": 5
  },
  {
   "metadata": {
    "ExecuteTime": {
     "end_time": "2024-11-05T11:39:06.636677Z",
     "start_time": "2024-11-05T11:38:58.394162Z"
    }
   },
   "cell_type": "code",
   "source": [
    "#  3: Maximum of three numbers\n",
    "num1 = float(input(\"Enter the first number: \"))\n",
    "num2 = float(input(\"Enter the second number: \"))\n",
    "num3 = float(input(\"Enter the third number: \"))\n",
    "print(\"The maximum is:\", max(num1, num2, num3))"
   ],
   "id": "826e6d26511f290f",
   "outputs": [
    {
     "name": "stdout",
     "output_type": "stream",
     "text": [
      "The maximum is: 564.0\n"
     ]
    }
   ],
   "execution_count": 6
  },
  {
   "metadata": {
    "ExecuteTime": {
     "end_time": "2024-11-05T11:40:12.230717Z",
     "start_time": "2024-11-05T11:39:48.889891Z"
    }
   },
   "cell_type": "code",
   "source": [
    "#  4: Maximum of n numbers\n",
    "n = int(input(\"Enter the number of elements: \"))\n",
    "numbers = [float(input(f\"Enter number {i+1}: \")) for i in range(n)]\n",
    "print(\"The maximum is:\", max(numbers))"
   ],
   "id": "d179477a97908244",
   "outputs": [
    {
     "name": "stdout",
     "output_type": "stream",
     "text": [
      "The maximum is: 87.0\n"
     ]
    }
   ],
   "execution_count": 7
  },
  {
   "metadata": {
    "ExecuteTime": {
     "end_time": "2024-11-05T11:40:40.575464Z",
     "start_time": "2024-11-05T11:40:34.630089Z"
    }
   },
   "cell_type": "code",
   "source": [
    "#  5: Check if a number is positive, negative, or zero\n",
    "num = float(input(\"Enter a number: \"))\n",
    "if num > 0:\n",
    "    print(\"The number is positive.\")\n",
    "elif num < 0:\n",
    "    print(\"The number is negative.\")\n",
    "else:\n",
    "    print(\"The number is zero.\")\n"
   ],
   "id": "b4a86e007814a1f3",
   "outputs": [
    {
     "name": "stdout",
     "output_type": "stream",
     "text": [
      "The number is positive.\n"
     ]
    }
   ],
   "execution_count": 8
  },
  {
   "metadata": {
    "ExecuteTime": {
     "end_time": "2024-11-05T11:45:56.746214Z",
     "start_time": "2024-11-05T11:45:53.142153Z"
    }
   },
   "cell_type": "code",
   "source": [
    "#  6: Check if a number is odd or even\n",
    "num = int(input(\"Enter an integer: \"))\n",
    "if num % 2 == 0:\n",
    "    print(\"The number is even.\")\n",
    "else:\n",
    "    print(\"The number is odd.\")"
   ],
   "id": "8f69ef37333e6e26",
   "outputs": [
    {
     "name": "stdout",
     "output_type": "stream",
     "text": [
      "The number is even.\n"
     ]
    }
   ],
   "execution_count": 9
  },
  {
   "metadata": {
    "ExecuteTime": {
     "end_time": "2024-11-05T11:46:24.200806Z",
     "start_time": "2024-11-05T11:46:16.946440Z"
    }
   },
   "cell_type": "code",
   "source": [
    "#  7: Average of three numbers\n",
    "num1 = float(input(\"Enter the first number: \"))\n",
    "num2 = float(input(\"Enter the second number: \"))\n",
    "num3 = float(input(\"Enter the third number: \"))\n",
    "average = (num1 + num2 + num3) / 3\n",
    "print(\"The average is:\", average)\n"
   ],
   "id": "8d11974ec3d2b10c",
   "outputs": [
    {
     "name": "stdout",
     "output_type": "stream",
     "text": [
      "The average is: 13.0\n"
     ]
    }
   ],
   "execution_count": 10
  },
  {
   "metadata": {
    "ExecuteTime": {
     "end_time": "2024-11-05T11:47:31.131960Z",
     "start_time": "2024-11-05T11:47:19.966508Z"
    }
   },
   "cell_type": "code",
   "source": [
    "#  8: Evaluate the given expression\n",
    "\n",
    "x = float(input(\"Enter the value of x: \"))\n",
    "t = float(input(\"Enter the value of t: \"))\n",
    "y = float(input(\"Enter the value of y: \"))\n",
    "a = float(input(\"Enter the value of a: \"))\n",
    "b = float(input(\"Enter the value of b: \"))\n",
    "\n",
    "# Calculate y according to the given expression\n",
    "result = (x * (t + y)**2) / (a + b)\n",
    "print(\"The result of the expression is:\", result)"
   ],
   "id": "6ae18afeb781bf0c",
   "outputs": [
    {
     "name": "stdout",
     "output_type": "stream",
     "text": [
      "The result of the expression is: 386.019801980198\n"
     ]
    }
   ],
   "execution_count": 13
  },
  {
   "metadata": {
    "ExecuteTime": {
     "end_time": "2024-11-22T13:32:08.329603Z",
     "start_time": "2024-11-22T13:32:03.068056Z"
    }
   },
   "cell_type": "code",
   "source": [
    "#  9: Determine letter grade based on GPA\n",
    "gpa = float(input(\"Enter the GPA (0-4 scale): \"))\n",
    "\n",
    "if 0 <= gpa < 2:\n",
    "    print(\"Your letter grade is: F\")\n",
    "elif 2 <= gpa < 2.5:\n",
    "    print(\"Your letter grade is: D\")\n",
    "elif 2.5 <= gpa < 3:\n",
    "    print(\"Your letter grade is: C\")\n",
    "elif 3 <= gpa < 3.5:\n",
    "    print(\"Your letter grade is: B\")\n",
    "elif 3.5 <= gpa <= 4:\n",
    "    print(\"Your letter grade is: A\")\n",
    "else:\n",
    "    print(\"Invalid GPA entered.\")"
   ],
   "id": "a733d2a8c2077bc0",
   "outputs": [
    {
     "name": "stdout",
     "output_type": "stream",
     "text": [
      "Your letter grade is: A\n"
     ]
    }
   ],
   "execution_count": 2
  },
  {
   "metadata": {
    "ExecuteTime": {
     "end_time": "2024-11-05T11:48:36.452752Z",
     "start_time": "2024-11-05T11:48:36.445234Z"
    }
   },
   "cell_type": "code",
   "source": [
    "#  10: List comprehension example\n",
    "original_list = [1, 2, 3, 4, 5, 6, 7, 8, 9, 10]\n",
    "new_list = [x**2 for x in original_list if x % 2 == 0]  # Squares of even numbers\n",
    "print(\"New list:\", new_list)"
   ],
   "id": "76a5aa116f6140a3",
   "outputs": [
    {
     "name": "stdout",
     "output_type": "stream",
     "text": [
      "New list: [4, 16, 36, 64, 100]\n"
     ]
    }
   ],
   "execution_count": 15
  },
  {
   "metadata": {
    "ExecuteTime": {
     "end_time": "2024-11-05T11:48:53.723476Z",
     "start_time": "2024-11-05T11:48:48.847854Z"
    }
   },
   "cell_type": "code",
   "source": [
    "#  11: Fibonacci series\n",
    "n = int(input(\"Enter the number of terms: \"))\n",
    "fib_series = [0, 1]\n",
    "for i in range(2, n):\n",
    "    fib_series.append(fib_series[-1] + fib_series[-2])\n",
    "print(\"Fibonacci series:\", fib_series[:n])"
   ],
   "id": "f8a700ffc97f135f",
   "outputs": [
    {
     "name": "stdout",
     "output_type": "stream",
     "text": [
      "Fibonacci series: [0, 1, 1, 2, 3, 5, 8, 13, 21, 34]\n"
     ]
    }
   ],
   "execution_count": 16
  },
  {
   "metadata": {
    "ExecuteTime": {
     "end_time": "2024-11-05T11:49:38.029846Z",
     "start_time": "2024-11-05T11:49:38.017280Z"
    }
   },
   "cell_type": "code",
   "source": [
    "#  12: Check for prime numbers in a list\n",
    "numbers = [2, 3, 4, 5, 6, 7, 8, 9, 10]  # Example list\n",
    "\n",
    "def is_prime(Num):\n",
    "    if Num < 2:\n",
    "        return False\n",
    "    for i in range(2, int(Num ** 0.5) + 1):\n",
    "        if Num % i == 0:\n",
    "            return False\n",
    "    return True\n",
    "\n",
    "primes = [num for num in numbers if is_prime(num)]\n",
    "print(\"Prime numbers in the list:\", primes)"
   ],
   "id": "67610a4bac5c2013",
   "outputs": [
    {
     "name": "stdout",
     "output_type": "stream",
     "text": [
      "Prime numbers in the list: [2, 3, 5, 7]\n"
     ]
    }
   ],
   "execution_count": 17
  },
  {
   "metadata": {
    "ExecuteTime": {
     "end_time": "2024-11-05T11:49:57.894310Z",
     "start_time": "2024-11-05T11:49:52.509719Z"
    }
   },
   "cell_type": "code",
   "source": [
    "#  13: Multiplication table\n",
    "num = int(input(\"Enter the number for the multiplication table: \"))\n",
    "for i in range(11):\n",
    "    print(f\"{num} x {i} = {num * i}\")"
   ],
   "id": "80a1101b17715ace",
   "outputs": [
    {
     "name": "stdout",
     "output_type": "stream",
     "text": [
      "6 x 0 = 0\n",
      "6 x 1 = 6\n",
      "6 x 2 = 12\n",
      "6 x 3 = 18\n",
      "6 x 4 = 24\n",
      "6 x 5 = 30\n",
      "6 x 6 = 36\n",
      "6 x 7 = 42\n",
      "6 x 8 = 48\n",
      "6 x 9 = 54\n",
      "6 x 10 = 60\n"
     ]
    }
   ],
   "execution_count": 18
  },
  {
   "metadata": {
    "ExecuteTime": {
     "end_time": "2024-11-05T12:17:50.414604Z",
     "start_time": "2024-11-05T12:17:33.346934Z"
    }
   },
   "cell_type": "code",
   "source": [
    "#  14: Display a calendar\n",
    "import calendar\n",
    "\n",
    "year = int(input(\"Enter the year: \"))\n",
    "month = int(input(\"Enter the month (1-12): \"))\n",
    "print(calendar.month(year, month))\n"
   ],
   "id": "4e7ae92183fb2a29",
   "outputs": [
    {
     "name": "stdout",
     "output_type": "stream",
     "text": [
      "    August 2024\n",
      "Mo Tu We Th Fr Sa Su\n",
      "          1  2  3  4\n",
      " 5  6  7  8  9 10 11\n",
      "12 13 14 15 16 17 18\n",
      "19 20 21 22 23 24 25\n",
      "26 27 28 29 30 31\n",
      "\n"
     ]
    }
   ],
   "execution_count": 25
  },
  {
   "metadata": {
    "ExecuteTime": {
     "end_time": "2024-11-05T11:54:02.466853Z",
     "start_time": "2024-11-05T11:53:56.989064Z"
    }
   },
   "cell_type": "code",
   "source": [
    "#  15: Solve a quadratic equation\n",
    "import cmath\n",
    "\n",
    "a = float(input(\"Enter coefficient a: \"))\n",
    "b = float(input(\"Enter coefficient b: \"))\n",
    "c = float(input(\"Enter coefficient c: \"))\n",
    "\n",
    "discriminant = cmath.sqrt(b**2 - 4*a*c)\n",
    "root1 = (-b + discriminant) / (2*a)\n",
    "root2 = (-b - discriminant) / (2*a)\n",
    "\n",
    "print(\"The roots of the quadratic equation are:\", root1, \"and\", root2)"
   ],
   "id": "be271d25290b34c9",
   "outputs": [
    {
     "name": "stdout",
     "output_type": "stream",
     "text": [
      "The roots of the quadratic equation are: (5+0j) and (1+0j)\n"
     ]
    }
   ],
   "execution_count": 24
  }
 ],
 "metadata": {
  "kernelspec": {
   "display_name": "Python 3",
   "language": "python",
   "name": "python3"
  },
  "language_info": {
   "codemirror_mode": {
    "name": "ipython",
    "version": 2
   },
   "file_extension": ".py",
   "mimetype": "text/x-python",
   "name": "python",
   "nbconvert_exporter": "python",
   "pygments_lexer": "ipython2",
   "version": "2.7.6"
  }
 },
 "nbformat": 4,
 "nbformat_minor": 5
}
